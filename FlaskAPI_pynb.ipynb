{
  "nbformat": 4,
  "nbformat_minor": 0,
  "metadata": {
    "colab": {
      "provenance": []
    },
    "kernelspec": {
      "name": "python3",
      "display_name": "Python 3"
    },
    "language_info": {
      "name": "python"
    }
  },
  "cells": [
    {
      "cell_type": "markdown",
      "source": [
        "Q1) What is a RESTful API?\n",
        "\n",
        "    A RESTful API is a way for two systems to communicate over the internet using HTTP methods like GET, POST, PUT, and DELETE. It follows simple rules to manage data through URLs and usually exchanges data in JSON format. RESTful APIs are fast, simple, and stateless, making them ideal for web and mobile apps.\n",
        "\n",
        "Q2) Explain the concept of API specification.\n",
        "\n",
        "    An API specification is a detailed document that describes how an API works. It defines the available endpoints, the methods (like GET or POST), the type of data expected in requests and responses, and any rules or parameters needed. It acts like a guide for developers, helping them understand how to use the API correctly without needing to see the actual code. A good API specification makes it easier to build, test, and connect different systems. Tools like OpenAPI are often used to write these specifications.\n",
        "\n",
        "Q3)  What is Flask, and why is it popular for building APIs?\n",
        "\n",
        "    Flask is a lightweight and easy-to-use Python web framework used to build web applications and APIs. It is popular because it is simple, flexible, and beginner-friendly. Flask lets developers create APIs quickly with just a few lines of code. It does not come with unnecessary features by default, so you can add only what you need. This makes it a good choice for small projects, learning purposes, and prototyping APIs. It also has good community support and works well with other Python tools and libraries.\n",
        "\n",
        "Q4) What is routing in Flask?\n",
        "\n",
        "    Routing in Flask is the process of connecting URLs to specific functions in your code. When a user visits a URL, Flask checks the defined routes and runs the matching function, which returns a response. For example, if you create a route for /home, Flask will run the function linked to that route when someone visits that URL. Routing helps handle different pages or API endpoints like /, /about, or /todos. It uses the @app.route() decorator to define these routes in the code.\n",
        "\n",
        "Q5) How do you create a simple Flask application?\n",
        "\n",
        "    To create a simple Flask application, first install Flask using pip install flask. Then, create a Python file where you import Flask and create an app object. Use the @app.route() decorator to define a route and a function that returns a response. Finally, run the app using app.run(debug=True) to start a local server and view the output in a browser.\n",
        "\n",
        "Q6) What are HTTP methods used in RESTful APIs?\n",
        "\n",
        "    The main HTTP methods used in RESTful APIs are GET, POST, PUT, and DELETE.\n",
        "\n",
        "      GET is used to retrieve data from the server.\n",
        "\n",
        "      POST is used to create new data.\n",
        "\n",
        "      PUT is used to update existing data.\n",
        "\n",
        "      DELETE is used to remove data from the server.\n",
        "\n",
        "    These methods help perform basic operations on resources in a RESTful API.\n",
        "\n",
        "Q7) What is the purpose of the @app.route() decorator in Flask?\n",
        "\n",
        "    The @app.route() decorator in Flask is used to define routes in a web application. It connects a URL path to a specific function, so when a user visits that URL, Flask knows which function to run. For example, @app.route('/') tells Flask to run a function when the home page is accessed. This helps create different pages or API endpoints in the application.\n",
        "\n",
        "Q8) What is the difference between GET and POST HTTP methods?\n",
        "\n",
        "    The main difference between GET and POST HTTP methods is how they send data to the server. GET is used to request data from the server and sends data through the URL, which makes it visible in the address bar. It is mainly used for reading or retrieving information. On the other hand, POST is used to send data to the server, usually for creating or submitting something like a form. POST sends data in the body of the request, making it more secure for sensitive information.\n",
        "\n",
        "Q9) How do you handle errors in Flask APIs?\n",
        "\n",
        "    In Flask APIs, errors are handled using error handlers and proper response messages. You can use the @app.errorhandler() decorator to define custom error responses for common HTTP errors like 404 (Not Found) or 500 (Internal Server Error). You can also check for errors in your routes and return a custom JSON message using jsonify() with the appropriate status code. This helps in informing the client about what went wrong in a clear and controlled way.\n",
        "\n",
        "Q10) How do you connect Flask to a SQL database?\n",
        "\n",
        "    To connect Flask to a SQL database, you can use Flask-SQLAlchemy, which is a popular extension for database integration. First, install it using pip install flask-sqlalchemy. Then, in your Flask app, you need to configure the database URI (like SQLite or MySQL) using app.config['SQLALCHEMY_DATABASE_URI']. After that, you create a SQLAlchemy object, define your database models as Python classes, and use methods like .create_all(), .add(), and .commit() to interact with the database. This allows Flask to store, retrieve, and manage data in a structured way.\n",
        "\n",
        "Q11) What is the role of Flask-SQLAlchemy?\n",
        "\n",
        "    Flask-SQLAlchemy is an extension that helps connect a Flask application to a SQL database easily. It provides a simple and powerful way to work with databases using Python classes instead of writing raw SQL queries. With Flask-SQLAlchemy, you can define tables as models, perform operations like add, update, delete, and manage the database using Python code. It also handles the connection between Flask and the database, making database tasks more organized and easier to manage.\n",
        "\n",
        "Q12) What are Flask blueprints, and how are they useful?\n",
        "\n",
        "    Flask Blueprints are a way to organize a Flask application into smaller, reusable parts. Instead of writing all routes and logic in a single file, you can group related routes, templates, and static files into separate blueprints. This is especially useful in larger applications, where dividing the code into modules makes it easier to manage, understand, and reuse. Blueprints allow developers to create components like a user section or admin panel separately and then register them with the main app, keeping the project clean and structured.\n",
        "\n",
        "Q13) What is the purpose of Flask's request object?\n",
        "\n",
        "    The purpose of Flask's request object is to allow access to the data sent by the client to the server. It is used to get information from the incoming HTTP request, such as form data, JSON data, query parameters, headers, and more. For example, you can use request.form to access form inputs or request.json to get JSON data from a POST request. The request object is essential for handling user input and processing it in the Flask application.\n",
        "\n",
        "Q14) How do you create a RESTful API endpoint using Flask?\n",
        "\n",
        "    To create a RESTful API endpoint using Flask, you define a route using the @app.route() decorator and specify the HTTP method like GET or POST. Inside the route function, you write the code to handle the request and return a response, usually in JSON format using jsonify(). For example, you can create a GET endpoint at /data that returns some data as a JSON object. This is how Flask handles different types of requests and responds to API calls in a RESTful manner.\n",
        "\n",
        "Q15) What is the purpose of Flask's jsonify() function?\n",
        "\n",
        "    The purpose of Flask's jsonify() function is to convert Python data (like dictionaries or lists) into JSON format and send it as a response to the client. It also sets the correct MIME type (application/json) for the response. This makes it easier to return structured data from an API in a way that web or mobile apps can understand and use.\n",
        "\n",
        "Q16) Explain Flask’s url_for() function.\n",
        "\n",
        "    Flask’s url_for() function is used to generate URLs dynamically for a given function name. Instead of hardcoding URLs, you can use url_for() to build them based on the name of the view function. This makes the code more flexible and easier to maintain, especially when routes change. It is commonly used in templates and redirects to link to other pages in the app. For example, url_for('home') will return the URL for the function named home.\n",
        "\n",
        "Q17) How does Flask handle static files (CSS, JavaScript, etc.)?\n",
        "\n",
        "    Flask handles static files like CSS, JavaScript, and images using a folder named static in the project directory. By default, Flask automatically serves files from this folder. You can place your static files inside the static folder and access them in your HTML using the url_for() function. For example, to include a CSS file, you can write: <link rel=\"stylesheet\" href=\"{{ url_for('static', filename='style.css') }}\">. This way, Flask properly links and serves static content to the web pages.\n",
        "\n",
        "Q18) What is an API specification, and how does it help in building a Flask API?\n",
        "\n",
        "    An API specification is a detailed document that describes how an API should work. It defines the endpoints, HTTP methods, request and response formats, and any required parameters or headers. In building a Flask API, an API specification acts like a blueprint that guides developers on how to design and structure the API. It helps ensure that everyone on the team understands how the API works, improves communication, and makes it easier to test, update, or integrate the API with other systems. Tools like OpenAPI can be used to create and share such specifications.\n",
        "\n",
        "Q19) What are HTTP status codes, and why are they important in a Flask API?\n",
        "\n",
        "    HTTP status codes are numeric codes returned by a server to indicate the result of a client’s request. They help the client understand whether the request was successful, failed, or needs correction. For example, 200 means success, 404 means not found, and 500 means server error. In a Flask API, these codes are important because they give clear feedback about the outcome of a request. Flask allows you to return custom status codes along with responses using return jsonify(data), 200 or return {\"error\": \"Not found\"}, 404, helping clients handle responses properly.\n",
        "\n",
        "Q20) How do you handle POST requests in Flask?\n",
        "\n",
        "    To handle POST requests in Flask, you define a route with the methods=['POST'] option using the @app.route() decorator. Inside the route function, you use the request object to access the data sent by the client, such as form data or JSON. For example, request.form is used for form data and request.json for JSON data. After processing the data, you can return a response using jsonify() or any other suitable method. This allows the server to receive and handle data sent by the client, like submitting a form or adding a new record.\n",
        "\n",
        "Q21) How would you secure a Flask API?\n",
        "\n",
        "    To secure a Flask API, several important steps can be taken. First, you can use API authentication methods such as API keys, tokens, or JWT (JSON Web Tokens) to ensure that only authorized users can access the API. Second, use HTTPS instead of HTTP to encrypt data sent between the client and server. Third, you can validate all input data to prevent attacks like SQL injection or cross-site scripting (XSS). Additionally, using Flask extensions like Flask-Limiter can help prevent abuse by rate-limiting requests. Finally, keeping dependencies updated and handling errors securely also contributes to a safer API.\n",
        "\n",
        "Q22) What is the significance of the Flask-RESTful extension?\n",
        "\n",
        "    The Flask-RESTful extension is important because it makes it easier to build RESTful APIs with Flask. It provides a simple way to define resources and link them to HTTP methods like GET, POST, PUT, and DELETE using Python classes. This helps organize the code better and reduces repetition. Flask-RESTful also offers helpful features like automatic input parsing, error handling, and support for custom responses, making API development faster and more structured.\n",
        "\n",
        "Q23) What is the role of Flask’s session object?\n",
        "\n",
        "    The session object in Flask is used to store data for individual users across multiple requests. It works like a temporary memory that keeps track of user information, such as login status or user preferences, during a session. The data is stored on the server side but linked to the client using a secure cookie. This helps in creating features like user authentication and personalized user experiences in a Flask web application.\n",
        "    "
      ],
      "metadata": {
        "id": "EY0DObvEdV5V"
      }
    },
    {
      "cell_type": "code",
      "source": [
        "#Q1) How do you create a basic Flask application?\n",
        "\n",
        "from flask import Flask\n",
        "\n",
        "app = Flask(__name__)\n",
        "\n",
        "@app.route('/')\n",
        "def home():\n",
        "    return \"Hello, Flask!\"\n",
        "\n",
        "if __name__ == '__main__':\n",
        "    app.run(debug=True)\n"
      ],
      "metadata": {
        "id": "4xtY5jjcjV2O",
        "colab": {
          "base_uri": "https://localhost:8080/"
        },
        "outputId": "35fa4750-55b1-43e3-9358-0cb5f0a00b1f",
        "collapsed": true
      },
      "execution_count": null,
      "outputs": [
        {
          "output_type": "stream",
          "name": "stdout",
          "text": [
            " * Serving Flask app '__main__'\n",
            " * Debug mode: on\n"
          ]
        },
        {
          "output_type": "stream",
          "name": "stderr",
          "text": [
            "INFO:werkzeug:\u001b[31m\u001b[1mWARNING: This is a development server. Do not use it in a production deployment. Use a production WSGI server instead.\u001b[0m\n",
            " * Running on http://127.0.0.1:5000\n",
            "INFO:werkzeug:\u001b[33mPress CTRL+C to quit\u001b[0m\n",
            "INFO:werkzeug: * Restarting with stat\n"
          ]
        }
      ]
    },
    {
      "cell_type": "code",
      "source": [
        "#Q2)  How do you serve static files like images or CSS in Flask?\n",
        "\n",
        "from flask import Flask, send_from_directory\n",
        "\n",
        "app = Flask(__name__)\n",
        "\n",
        "@app.route('/static/<path:filename>')\n",
        "def serve_static(filename):\n",
        "    return send_from_directory('static', filename)"
      ],
      "metadata": {
        "id": "FUWh_aF0H_vH"
      },
      "execution_count": 4,
      "outputs": []
    },
    {
      "cell_type": "code",
      "source": [
        "#Q3)  How do you define different routes with different HTTP methods in Flask?\n",
        "\n",
        "from flask import Flask, request\n",
        "\n",
        "app = Flask(__name__)\n",
        "\n",
        "# Route for GET request\n",
        "@app.route('/hello', methods=['GET'])\n",
        "def say_hello():\n",
        "    return \"Hello, this is a GET request!\"\n",
        "\n",
        "# Route for POST request\n",
        "@app.route('/submit', methods=['POST'])\n",
        "def submit_data():\n",
        "    data = request.form.get('name')\n",
        "    return f\"Data received: {data}\"\n",
        "\n",
        "# Route that handles both GET and POST\n",
        "@app.route('/login', methods=['GET', 'POST'])\n",
        "def login():\n",
        "    if request.method == 'POST':\n",
        "        return \"Login submitted!\"\n",
        "    else:\n",
        "        return \"Please log in.\"\n",
        "\n",
        "if __name__ == '__main__':\n",
        "    app.run(debug=True)\n"
      ],
      "metadata": {
        "colab": {
          "base_uri": "https://localhost:8080/"
        },
        "collapsed": true,
        "id": "XtsDura0LQ3v",
        "outputId": "dd95a03f-c55b-423b-d7fd-7c30ab1e8654"
      },
      "execution_count": null,
      "outputs": [
        {
          "metadata": {
            "tags": null
          },
          "name": "stdout",
          "output_type": "stream",
          "text": [
            " * Serving Flask app '__main__'\n",
            " * Debug mode: on\n"
          ]
        },
        {
          "metadata": {
            "tags": null
          },
          "name": "stderr",
          "output_type": "stream",
          "text": [
            "INFO:werkzeug:\u001b[31m\u001b[1mWARNING: This is a development server. Do not use it in a production deployment. Use a production WSGI server instead.\u001b[0m\n",
            " * Running on http://127.0.0.1:5000\n",
            "INFO:werkzeug:\u001b[33mPress CTRL+C to quit\u001b[0m\n",
            "INFO:werkzeug: * Restarting with stat\n"
          ]
        }
      ]
    },
    {
      "cell_type": "code",
      "source": [
        "#Q4) How do you render HTML templates in Flask?\n",
        "\n",
        "from flask import Flask, render_template\n",
        "\n",
        "app = Flask(__name__)\n",
        "\n",
        "@app.route('/')\n",
        "def home():\n",
        "    return render_template('index.html')\n",
        "\n",
        "if __name__ == '__main__':\n",
        "    app.run(debug=True)\n"
      ],
      "metadata": {
        "id": "HBehuhHtLdAa"
      },
      "execution_count": null,
      "outputs": []
    },
    {
      "cell_type": "code",
      "source": [
        "#Q5) How can you generate URLs for routes in Flask using url_for?\n",
        "\n",
        "from flask import Flask, url_for, redirect\n",
        "\n",
        "app = Flask(__name__)\n",
        "\n",
        "@app.route('/')\n",
        "def home():\n",
        "    return \"Welcome to the homepage!\"\n",
        "\n",
        "@app.route('/about')\n",
        "def about():\n",
        "    return \"About page\"\n",
        "\n",
        "@app.route('/go-to-about')\n",
        "def go_to_about():\n",
        "    return redirect(url_for('about'))  # Generates URL for the 'about' function\n",
        "\n",
        "if __name__ == '__main__':\n",
        "    app.run(debug=True)\n"
      ],
      "metadata": {
        "id": "2mrP8cijLn8m"
      },
      "execution_count": null,
      "outputs": []
    },
    {
      "cell_type": "code",
      "source": [
        "#Q6) How do you handle forms in Flask?\n",
        "\n",
        "from flask import Flask, request, render_template\n",
        "\n",
        "app = Flask(__name__)\n",
        "\n",
        "@app.route('/')\n",
        "def form():\n",
        "    return render_template('form.html')\n",
        "\n",
        "@app.route('/submit', methods=['POST'])\n",
        "def submit():\n",
        "    name = request.form['name']\n",
        "    return f\"Hello, {name}!\"\n",
        "\n",
        "if __name__ == '__main__':\n",
        "    app.run(debug=True)\n"
      ],
      "metadata": {
        "id": "UXVtatR8LxpW"
      },
      "execution_count": null,
      "outputs": []
    },
    {
      "cell_type": "code",
      "source": [
        "#Q7) How can you validate form data in Flask?\n",
        "\n",
        "from flask import Flask, request, render_template\n",
        "\n",
        "app = Flask(__name__)\n",
        "\n",
        "@app.route('/')\n",
        "def form():\n",
        "    return render_template('form.html')\n",
        "\n",
        "@app.route('/submit', methods=['POST'])\n",
        "def submit():\n",
        "    name = request.form.get('name')\n",
        "    if not name:\n",
        "        return \"Name is required!\", 400\n",
        "    return f\"Hello, {name}!\"\n",
        "\n",
        "if __name__ == '__main__':\n",
        "    app.run(debug=True)\n"
      ],
      "metadata": {
        "id": "YLAS68UJL-y0"
      },
      "execution_count": null,
      "outputs": []
    },
    {
      "cell_type": "code",
      "source": [
        "#Q8)  How do you manage sessions in Flask?\n",
        "\n",
        "from flask import Flask, session, redirect, url_for, request\n",
        "\n",
        "app = Flask(__name__)\n",
        "app.secret_key = 'my_secret_key'\n",
        "\n",
        "@app.route('/')\n",
        "def home():\n",
        "    if 'username' in session:\n",
        "        return f\"Welcome back, {session['username']}!\"\n",
        "    return \"You are not logged in.\"\n",
        "\n",
        "@app.route('/login', methods=['POST', 'GET'])\n",
        "def login():\n",
        "    if request.method == 'POST':\n",
        "        session['username'] = request.form['username']\n",
        "        return redirect(url_for('home'))\n",
        "    return '''\n",
        "        <form method=\"post\">\n",
        "            Username: <input type=\"text\" name=\"username\">\n",
        "            <input type=\"submit\" value=\"Login\">\n",
        "        </form>\n",
        "    '''\n",
        "\n",
        "@app.route('/logout')\n",
        "def logout():\n",
        "    session.pop('username', None)\n",
        "    return redirect(url_for('home'))\n",
        "\n",
        "if __name__ == '__main__':\n",
        "    app.run(debug=True)\n"
      ],
      "metadata": {
        "id": "1FGl1eStMPIJ"
      },
      "execution_count": null,
      "outputs": []
    },
    {
      "cell_type": "code",
      "source": [
        "#Q9)  How do you redirect to a different route in Flask?\n",
        "\n",
        "from flask import Flask, redirect, url_for\n",
        "\n",
        "app = Flask(__name__)\n",
        "\n",
        "@app.route('/')\n",
        "def home():\n",
        "    return \"Welcome to the homepage!\"\n",
        "\n",
        "@app.route('/login')\n",
        "def login():\n",
        "    return \"Please log in.\"\n",
        "\n",
        "@app.route('/go-to-login')\n",
        "def go_to_login():\n",
        "    return redirect(url_for('login'))  # Redirects to /login\n",
        "\n",
        "if __name__ == '__main__':\n",
        "    app.run(debug=True)\n"
      ],
      "metadata": {
        "id": "hCAGmBQbMdqL"
      },
      "execution_count": null,
      "outputs": []
    },
    {
      "cell_type": "code",
      "source": [
        "#Q10) How do you handle errors in Flask (e.g., 404)?\n",
        "\n",
        "from flask import Flask, render_template\n",
        "\n",
        "app = Flask(__name__)\n",
        "\n",
        "@app.route('/')\n",
        "def home():\n",
        "    return \"Welcome to the homepage!\"\n",
        "\n",
        "@app.errorhandler(404)\n",
        "def page_not_found(e):\n",
        "    return render_template('404.html'), 404\n",
        "\n",
        "if __name__ == '__main__':\n",
        "    app.run(debug=True)\n"
      ],
      "metadata": {
        "id": "WFYjW3ASMq8Y"
      },
      "execution_count": null,
      "outputs": []
    },
    {
      "cell_type": "code",
      "source": [
        "#Q11) How do you structure a Flask app using Blueprints?\n",
        "\n",
        "from flask import Blueprint, render_template\n",
        "\n",
        "auth_bp = Blueprint('auth', __name__)\n",
        "\n",
        "@auth_bp.route('/login')\n",
        "def login():\n",
        "    return render_template('login.html')\n"
      ],
      "metadata": {
        "id": "LObCKFgQMy7k"
      },
      "execution_count": null,
      "outputs": []
    },
    {
      "cell_type": "code",
      "source": [
        "#Q12) How do you define a custom Jinja filter in Flask?\n",
        "\n",
        "from flask import Flask, render_template\n",
        "\n",
        "app = Flask(__name__)\n",
        "\n",
        "def reverse_string(s):\n",
        "    return s[::-1]\n",
        "\n",
        "app.add_template_filter(reverse_string, 'reverse')\n",
        "\n",
        "@app.route('/')\n",
        "def home():\n",
        "    return render_template('index.html', message=\"Hello Flask\")\n",
        "\n",
        "if __name__ == '__main__':\n",
        "    app.run(debug=True)\n"
      ],
      "metadata": {
        "id": "gTUimTenN-VO"
      },
      "execution_count": null,
      "outputs": []
    },
    {
      "cell_type": "code",
      "source": [
        "#Q13) How can you redirect with query parameters in Flask?\n",
        "\n",
        "\n",
        "from flask import Flask, redirect, url_for, request\n",
        "\n",
        "app = Flask(__name__)\n",
        "\n",
        "@app.route('/')\n",
        "def home():\n",
        "    return redirect(url_for('greet', name='Swastik', age=25))\n",
        "\n",
        "@app.route('/greet')\n",
        "def greet():\n",
        "    name = request.args.get('name')\n",
        "    age = request.args.get('age')\n",
        "    return f\"Hello {name}, you are {age} years old.\"\n",
        "\n",
        "if __name__ == '__main__':\n",
        "    app.run(debug=True)\n"
      ],
      "metadata": {
        "id": "kgdRLCYiOFZN"
      },
      "execution_count": null,
      "outputs": []
    },
    {
      "cell_type": "code",
      "source": [
        "#Q14) How do you return JSON responses in Flask?\n",
        "\n",
        "from flask import Flask, jsonify\n",
        "\n",
        "app = Flask(__name__)\n",
        "\n",
        "@app.route('/api/data')\n",
        "def get_data():\n",
        "    data = {'name': 'Swastik', 'age': 25, 'city': 'Faridabad'}\n",
        "    return jsonify(data)\n",
        "\n",
        "if __name__ == '__main__':\n",
        "    app.run(debug=True)\n"
      ],
      "metadata": {
        "id": "7TsEIBimOOVC"
      },
      "execution_count": null,
      "outputs": []
    },
    {
      "cell_type": "code",
      "source": [
        "#Q15) How do you capture URL parameters in Flask?\n",
        "\n",
        "from flask import Flask\n",
        "\n",
        "app = Flask(__name__)\n",
        "\n",
        "@app.route('/user/<username>')\n",
        "def show_user(username):\n",
        "    return f\"Hello, {username}!\"\n"
      ],
      "metadata": {
        "id": "SqnNnVqAQSjp"
      },
      "execution_count": null,
      "outputs": []
    }
  ]
}